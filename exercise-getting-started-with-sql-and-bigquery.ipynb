{
 "cells": [
  {
   "cell_type": "markdown",
   "id": "9f77a1f2",
   "metadata": {
    "papermill": {
     "duration": 0.006616,
     "end_time": "2022-08-10T18:19:03.504547",
     "exception": false,
     "start_time": "2022-08-10T18:19:03.497931",
     "status": "completed"
    },
    "tags": []
   },
   "source": [
    "**This notebook is an exercise in the [SQL](https://www.kaggle.com/learn/intro-to-sql) course.  You can reference the tutorial at [this link](https://www.kaggle.com/dansbecker/getting-started-with-sql-and-bigquery).**\n",
    "\n",
    "---\n"
   ]
  },
  {
   "cell_type": "markdown",
   "id": "088d49e4",
   "metadata": {
    "papermill": {
     "duration": 0.004958,
     "end_time": "2022-08-10T18:19:03.515041",
     "exception": false,
     "start_time": "2022-08-10T18:19:03.510083",
     "status": "completed"
    },
    "tags": []
   },
   "source": [
    "# Introduction\n",
    "\n",
    "The first test of your new data exploration skills uses data describing crime in the city of Chicago.\n",
    "\n",
    "Before you get started, run the following cell. It sets up the automated feedback system to review your answers."
   ]
  },
  {
   "cell_type": "code",
   "execution_count": 1,
   "id": "23bbbbd1",
   "metadata": {
    "execution": {
     "iopub.execute_input": "2022-08-10T18:19:03.527957Z",
     "iopub.status.busy": "2022-08-10T18:19:03.527372Z",
     "iopub.status.idle": "2022-08-10T18:19:04.552767Z",
     "shell.execute_reply": "2022-08-10T18:19:04.551379Z"
    },
    "papermill": {
     "duration": 1.035868,
     "end_time": "2022-08-10T18:19:04.556042",
     "exception": false,
     "start_time": "2022-08-10T18:19:03.520174",
     "status": "completed"
    },
    "tags": []
   },
   "outputs": [
    {
     "name": "stdout",
     "output_type": "stream",
     "text": [
      "Using Kaggle's public dataset BigQuery integration.\n",
      "Setup Complete\n"
     ]
    }
   ],
   "source": [
    "# Set up feedack system\n",
    "from learntools.core import binder\n",
    "binder.bind(globals())\n",
    "from learntools.sql.ex1 import *\n",
    "print(\"Setup Complete\")"
   ]
  },
  {
   "cell_type": "markdown",
   "id": "f42e19cd",
   "metadata": {
    "papermill": {
     "duration": 0.005185,
     "end_time": "2022-08-10T18:19:04.566975",
     "exception": false,
     "start_time": "2022-08-10T18:19:04.561790",
     "status": "completed"
    },
    "tags": []
   },
   "source": [
    "Use the next code cell to fetch the dataset."
   ]
  },
  {
   "cell_type": "code",
   "execution_count": 2,
   "id": "dd95f540",
   "metadata": {
    "execution": {
     "iopub.execute_input": "2022-08-10T18:19:04.580201Z",
     "iopub.status.busy": "2022-08-10T18:19:04.579111Z",
     "iopub.status.idle": "2022-08-10T18:19:04.885619Z",
     "shell.execute_reply": "2022-08-10T18:19:04.884572Z"
    },
    "papermill": {
     "duration": 0.316106,
     "end_time": "2022-08-10T18:19:04.888540",
     "exception": false,
     "start_time": "2022-08-10T18:19:04.572434",
     "status": "completed"
    },
    "tags": []
   },
   "outputs": [
    {
     "name": "stdout",
     "output_type": "stream",
     "text": [
      "Using Kaggle's public dataset BigQuery integration.\n"
     ]
    }
   ],
   "source": [
    "from google.cloud import bigquery\n",
    "\n",
    "# Create a \"Client\" object\n",
    "client = bigquery.Client()\n",
    "\n",
    "# Construct a reference to the \"chicago_crime\" dataset\n",
    "dataset_ref = client.dataset(\"chicago_crime\", project=\"bigquery-public-data\")\n",
    "\n",
    "# API request - fetch the dataset\n",
    "dataset = client.get_dataset(dataset_ref)"
   ]
  },
  {
   "cell_type": "markdown",
   "id": "996115ef",
   "metadata": {
    "papermill": {
     "duration": 0.005197,
     "end_time": "2022-08-10T18:19:04.899353",
     "exception": false,
     "start_time": "2022-08-10T18:19:04.894156",
     "status": "completed"
    },
    "tags": []
   },
   "source": [
    "# Exercises\n",
    "\n",
    "### 1) Count tables in the dataset\n",
    "\n",
    "How many tables are in the Chicago Crime dataset?"
   ]
  },
  {
   "cell_type": "code",
   "execution_count": 3,
   "id": "eb58fac5",
   "metadata": {
    "execution": {
     "iopub.execute_input": "2022-08-10T18:19:04.912158Z",
     "iopub.status.busy": "2022-08-10T18:19:04.911778Z",
     "iopub.status.idle": "2022-08-10T18:19:04.916132Z",
     "shell.execute_reply": "2022-08-10T18:19:04.915321Z"
    },
    "papermill": {
     "duration": 0.013077,
     "end_time": "2022-08-10T18:19:04.918128",
     "exception": false,
     "start_time": "2022-08-10T18:19:04.905051",
     "status": "completed"
    },
    "tags": []
   },
   "outputs": [],
   "source": [
    "# Write the code you need here to figure out the answer"
   ]
  },
  {
   "cell_type": "code",
   "execution_count": 4,
   "id": "0a751d26",
   "metadata": {
    "execution": {
     "iopub.execute_input": "2022-08-10T18:19:04.931588Z",
     "iopub.status.busy": "2022-08-10T18:19:04.930971Z",
     "iopub.status.idle": "2022-08-10T18:19:05.223474Z",
     "shell.execute_reply": "2022-08-10T18:19:05.222320Z"
    },
    "papermill": {
     "duration": 0.302634,
     "end_time": "2022-08-10T18:19:05.226178",
     "exception": false,
     "start_time": "2022-08-10T18:19:04.923544",
     "status": "completed"
    },
    "tags": []
   },
   "outputs": [
    {
     "data": {
      "application/javascript": [
       "parent.postMessage({\"jupyterEvent\": \"custom.exercise_interaction\", \"data\": {\"outcomeType\": 1, \"valueTowardsCompletion\": 0.3333333333333333, \"interactionType\": 1, \"questionType\": 1, \"questionId\": \"1_CountTables\", \"learnToolsVersion\": \"0.3.4\", \"failureMessage\": \"\", \"exceptionClass\": \"\", \"trace\": \"\"}}, \"*\")"
      ],
      "text/plain": [
       "<IPython.core.display.Javascript object>"
      ]
     },
     "metadata": {},
     "output_type": "display_data"
    },
    {
     "data": {
      "text/markdown": [
       "<span style=\"color:#33cc33\">Correct</span>"
      ],
      "text/plain": [
       "Correct"
      ]
     },
     "metadata": {},
     "output_type": "display_data"
    }
   ],
   "source": [
    "num_tables = len(list(client.list_tables(dataset)))  # Store the answer as num_tables and then run this cell\n",
    "\n",
    "# Check your answer\n",
    "q_1.check()"
   ]
  },
  {
   "cell_type": "markdown",
   "id": "7302ac2c",
   "metadata": {
    "papermill": {
     "duration": 0.005307,
     "end_time": "2022-08-10T18:19:05.237285",
     "exception": false,
     "start_time": "2022-08-10T18:19:05.231978",
     "status": "completed"
    },
    "tags": []
   },
   "source": [
    "For a hint or the solution, uncomment the appropriate line below."
   ]
  },
  {
   "cell_type": "code",
   "execution_count": 5,
   "id": "98420e81",
   "metadata": {
    "execution": {
     "iopub.execute_input": "2022-08-10T18:19:05.249846Z",
     "iopub.status.busy": "2022-08-10T18:19:05.249466Z",
     "iopub.status.idle": "2022-08-10T18:19:05.253912Z",
     "shell.execute_reply": "2022-08-10T18:19:05.252847Z"
    },
    "papermill": {
     "duration": 0.013528,
     "end_time": "2022-08-10T18:19:05.256236",
     "exception": false,
     "start_time": "2022-08-10T18:19:05.242708",
     "status": "completed"
    },
    "tags": []
   },
   "outputs": [],
   "source": [
    "#q_1.hint()\n",
    "#q_1.solution()"
   ]
  },
  {
   "cell_type": "markdown",
   "id": "2d1acbf3",
   "metadata": {
    "papermill": {
     "duration": 0.005333,
     "end_time": "2022-08-10T18:19:05.267193",
     "exception": false,
     "start_time": "2022-08-10T18:19:05.261860",
     "status": "completed"
    },
    "tags": []
   },
   "source": [
    "### 2) Explore the table schema\n",
    "\n",
    "How many columns in the `crime` table have `TIMESTAMP` data?"
   ]
  },
  {
   "cell_type": "code",
   "execution_count": 6,
   "id": "132234b7",
   "metadata": {
    "execution": {
     "iopub.execute_input": "2022-08-10T18:19:05.280245Z",
     "iopub.status.busy": "2022-08-10T18:19:05.279863Z",
     "iopub.status.idle": "2022-08-10T18:19:05.284690Z",
     "shell.execute_reply": "2022-08-10T18:19:05.283450Z"
    },
    "papermill": {
     "duration": 0.014128,
     "end_time": "2022-08-10T18:19:05.286985",
     "exception": false,
     "start_time": "2022-08-10T18:19:05.272857",
     "status": "completed"
    },
    "tags": []
   },
   "outputs": [],
   "source": [
    "# Write the code to figure out the answer"
   ]
  },
  {
   "cell_type": "code",
   "execution_count": 7,
   "id": "4736643c",
   "metadata": {
    "execution": {
     "iopub.execute_input": "2022-08-10T18:19:05.300675Z",
     "iopub.status.busy": "2022-08-10T18:19:05.299619Z",
     "iopub.status.idle": "2022-08-10T18:19:05.505034Z",
     "shell.execute_reply": "2022-08-10T18:19:05.503857Z"
    },
    "papermill": {
     "duration": 0.214281,
     "end_time": "2022-08-10T18:19:05.507033",
     "exception": false,
     "start_time": "2022-08-10T18:19:05.292752",
     "status": "completed"
    },
    "tags": []
   },
   "outputs": [
    {
     "name": "stdout",
     "output_type": "stream",
     "text": [
      "[SchemaField('unique_key', 'INTEGER', 'REQUIRED', None, (), None), SchemaField('case_number', 'STRING', 'NULLABLE', None, (), None), SchemaField('date', 'TIMESTAMP', 'NULLABLE', None, (), None), SchemaField('block', 'STRING', 'NULLABLE', None, (), None), SchemaField('iucr', 'STRING', 'NULLABLE', None, (), None), SchemaField('primary_type', 'STRING', 'NULLABLE', None, (), None), SchemaField('description', 'STRING', 'NULLABLE', None, (), None), SchemaField('location_description', 'STRING', 'NULLABLE', None, (), None), SchemaField('arrest', 'BOOLEAN', 'NULLABLE', None, (), None), SchemaField('domestic', 'BOOLEAN', 'NULLABLE', None, (), None), SchemaField('beat', 'INTEGER', 'NULLABLE', None, (), None), SchemaField('district', 'INTEGER', 'NULLABLE', None, (), None), SchemaField('ward', 'INTEGER', 'NULLABLE', None, (), None), SchemaField('community_area', 'INTEGER', 'NULLABLE', None, (), None), SchemaField('fbi_code', 'STRING', 'NULLABLE', None, (), None), SchemaField('x_coordinate', 'FLOAT', 'NULLABLE', None, (), None), SchemaField('y_coordinate', 'FLOAT', 'NULLABLE', None, (), None), SchemaField('year', 'INTEGER', 'NULLABLE', None, (), None), SchemaField('updated_on', 'TIMESTAMP', 'NULLABLE', None, (), None), SchemaField('latitude', 'FLOAT', 'NULLABLE', None, (), None), SchemaField('longitude', 'FLOAT', 'NULLABLE', None, (), None), SchemaField('location', 'STRING', 'NULLABLE', None, (), None)]\n"
     ]
    },
    {
     "data": {
      "application/javascript": [
       "parent.postMessage({\"jupyterEvent\": \"custom.exercise_interaction\", \"data\": {\"outcomeType\": 1, \"valueTowardsCompletion\": 0.3333333333333333, \"interactionType\": 1, \"questionType\": 1, \"questionId\": \"2_CountTimestampFields\", \"learnToolsVersion\": \"0.3.4\", \"failureMessage\": \"\", \"exceptionClass\": \"\", \"trace\": \"\"}}, \"*\")"
      ],
      "text/plain": [
       "<IPython.core.display.Javascript object>"
      ]
     },
     "metadata": {},
     "output_type": "display_data"
    },
    {
     "data": {
      "text/markdown": [
       "<span style=\"color:#33cc33\">Correct</span>"
      ],
      "text/plain": [
       "Correct"
      ]
     },
     "metadata": {},
     "output_type": "display_data"
    }
   ],
   "source": [
    "table_ref = dataset_ref.table(\"crime\")\n",
    "table = client.get_table(table_ref)\n",
    "print(table.schema)\n",
    "num_timestamp_fields = num_timestamp_fields = 2 # Put your answer here\n",
    "\n",
    "# Check your answer\n",
    "q_2.check()"
   ]
  },
  {
   "cell_type": "markdown",
   "id": "be4be04c",
   "metadata": {
    "papermill": {
     "duration": 0.0065,
     "end_time": "2022-08-10T18:19:05.519554",
     "exception": false,
     "start_time": "2022-08-10T18:19:05.513054",
     "status": "completed"
    },
    "tags": []
   },
   "source": [
    "For a hint or the solution, uncomment the appropriate line below."
   ]
  },
  {
   "cell_type": "code",
   "execution_count": 8,
   "id": "ce4386dc",
   "metadata": {
    "execution": {
     "iopub.execute_input": "2022-08-10T18:19:05.533130Z",
     "iopub.status.busy": "2022-08-10T18:19:05.532743Z",
     "iopub.status.idle": "2022-08-10T18:19:05.537283Z",
     "shell.execute_reply": "2022-08-10T18:19:05.535944Z"
    },
    "papermill": {
     "duration": 0.014138,
     "end_time": "2022-08-10T18:19:05.539570",
     "exception": false,
     "start_time": "2022-08-10T18:19:05.525432",
     "status": "completed"
    },
    "tags": []
   },
   "outputs": [],
   "source": [
    "#q_2.hint()\n",
    "#q_2.solution()"
   ]
  },
  {
   "cell_type": "markdown",
   "id": "69d455f8",
   "metadata": {
    "papermill": {
     "duration": 0.00577,
     "end_time": "2022-08-10T18:19:05.551373",
     "exception": false,
     "start_time": "2022-08-10T18:19:05.545603",
     "status": "completed"
    },
    "tags": []
   },
   "source": [
    "### 3) Create a crime map\n",
    "\n",
    "If you wanted to create a map with a dot at the location of each crime, what are the names of the two fields you likely need to pull out of the `crime` table to plot the crimes on a map?"
   ]
  },
  {
   "cell_type": "code",
   "execution_count": 9,
   "id": "d2ec82df",
   "metadata": {
    "execution": {
     "iopub.execute_input": "2022-08-10T18:19:05.565014Z",
     "iopub.status.busy": "2022-08-10T18:19:05.564605Z",
     "iopub.status.idle": "2022-08-10T18:19:05.569625Z",
     "shell.execute_reply": "2022-08-10T18:19:05.568550Z"
    },
    "papermill": {
     "duration": 0.014481,
     "end_time": "2022-08-10T18:19:05.571907",
     "exception": false,
     "start_time": "2022-08-10T18:19:05.557426",
     "status": "completed"
    },
    "tags": []
   },
   "outputs": [],
   "source": [
    "# Write the code here to explore the data so you can find the answer"
   ]
  },
  {
   "cell_type": "code",
   "execution_count": 10,
   "id": "e04196c2",
   "metadata": {
    "execution": {
     "iopub.execute_input": "2022-08-10T18:19:05.586053Z",
     "iopub.status.busy": "2022-08-10T18:19:05.585244Z",
     "iopub.status.idle": "2022-08-10T18:19:05.593870Z",
     "shell.execute_reply": "2022-08-10T18:19:05.593062Z"
    },
    "papermill": {
     "duration": 0.017876,
     "end_time": "2022-08-10T18:19:05.595873",
     "exception": false,
     "start_time": "2022-08-10T18:19:05.577997",
     "status": "completed"
    },
    "tags": []
   },
   "outputs": [
    {
     "data": {
      "application/javascript": [
       "parent.postMessage({\"jupyterEvent\": \"custom.exercise_interaction\", \"data\": {\"outcomeType\": 1, \"valueTowardsCompletion\": 0.3333333333333333, \"interactionType\": 1, \"questionType\": 2, \"questionId\": \"3_IdentifyFieldsForPlotting\", \"learnToolsVersion\": \"0.3.4\", \"failureMessage\": \"\", \"exceptionClass\": \"\", \"trace\": \"\"}}, \"*\")"
      ],
      "text/plain": [
       "<IPython.core.display.Javascript object>"
      ]
     },
     "metadata": {},
     "output_type": "display_data"
    },
    {
     "data": {
      "text/markdown": [
       "<span style=\"color:#33cc33\">Correct</span>"
      ],
      "text/plain": [
       "Correct"
      ]
     },
     "metadata": {},
     "output_type": "display_data"
    }
   ],
   "source": [
    "fields_for_plotting = ['latitude', 'longitude'] # Put your answers here\n",
    "\n",
    "# Check your answer\n",
    "q_3.check()"
   ]
  },
  {
   "cell_type": "markdown",
   "id": "0fe0f232",
   "metadata": {
    "papermill": {
     "duration": 0.006093,
     "end_time": "2022-08-10T18:19:05.608230",
     "exception": false,
     "start_time": "2022-08-10T18:19:05.602137",
     "status": "completed"
    },
    "tags": []
   },
   "source": [
    "For a hint or the solution, uncomment the appropriate line below."
   ]
  },
  {
   "cell_type": "code",
   "execution_count": 11,
   "id": "9eb3a324",
   "metadata": {
    "execution": {
     "iopub.execute_input": "2022-08-10T18:19:05.622314Z",
     "iopub.status.busy": "2022-08-10T18:19:05.621902Z",
     "iopub.status.idle": "2022-08-10T18:19:05.630085Z",
     "shell.execute_reply": "2022-08-10T18:19:05.629063Z"
    },
    "papermill": {
     "duration": 0.017811,
     "end_time": "2022-08-10T18:19:05.632215",
     "exception": false,
     "start_time": "2022-08-10T18:19:05.614404",
     "status": "completed"
    },
    "tags": []
   },
   "outputs": [
    {
     "data": {
      "application/javascript": [
       "parent.postMessage({\"jupyterEvent\": \"custom.exercise_interaction\", \"data\": {\"interactionType\": 3, \"questionType\": 2, \"questionId\": \"3_IdentifyFieldsForPlotting\", \"learnToolsVersion\": \"0.3.4\", \"valueTowardsCompletion\": 0.0, \"failureMessage\": \"\", \"exceptionClass\": \"\", \"trace\": \"\", \"outcomeType\": 4}}, \"*\")"
      ],
      "text/plain": [
       "<IPython.core.display.Javascript object>"
      ]
     },
     "metadata": {},
     "output_type": "display_data"
    },
    {
     "data": {
      "text/markdown": [
       "<span style=\"color:#33cc99\">Solution:</span> \n",
       "```python\n",
       "fields_for_plotting = ['latitude', 'longitude']\n",
       "```"
      ],
      "text/plain": [
       "Solution: \n",
       "```python\n",
       "fields_for_plotting = ['latitude', 'longitude']\n",
       "```"
      ]
     },
     "metadata": {},
     "output_type": "display_data"
    }
   ],
   "source": [
    "#q_3.hint()\n",
    "q_3.solution()"
   ]
  },
  {
   "cell_type": "markdown",
   "id": "e1554c9d",
   "metadata": {
    "papermill": {
     "duration": 0.006252,
     "end_time": "2022-08-10T18:19:05.644947",
     "exception": false,
     "start_time": "2022-08-10T18:19:05.638695",
     "status": "completed"
    },
    "tags": []
   },
   "source": [
    "Thinking about the question above, there are a few columns that appear to have geographic data. Look at a few values (with the `list_rows()` command) to see if you can determine their relationship.  Two columns will still be hard to interpret. But it should be obvious how the `location` column relates to `latitude` and `longitude`."
   ]
  },
  {
   "cell_type": "code",
   "execution_count": 12,
   "id": "9c111bc3",
   "metadata": {
    "execution": {
     "iopub.execute_input": "2022-08-10T18:19:05.659542Z",
     "iopub.status.busy": "2022-08-10T18:19:05.659124Z",
     "iopub.status.idle": "2022-08-10T18:19:05.663201Z",
     "shell.execute_reply": "2022-08-10T18:19:05.662149Z"
    },
    "papermill": {
     "duration": 0.014303,
     "end_time": "2022-08-10T18:19:05.665656",
     "exception": false,
     "start_time": "2022-08-10T18:19:05.651353",
     "status": "completed"
    },
    "tags": []
   },
   "outputs": [],
   "source": [
    "# Scratch space for your code"
   ]
  },
  {
   "cell_type": "markdown",
   "id": "0801b1aa",
   "metadata": {
    "papermill": {
     "duration": 0.006351,
     "end_time": "2022-08-10T18:19:05.678666",
     "exception": false,
     "start_time": "2022-08-10T18:19:05.672315",
     "status": "completed"
    },
    "tags": []
   },
   "source": [
    "# Keep going\n",
    "\n",
    "You've looked at the schema, but you haven't yet done anything exciting with the data itself. Things get more interesting when you get to the data, so keep going to **[write your first SQL query](https://www.kaggle.com/dansbecker/select-from-where).**"
   ]
  },
  {
   "cell_type": "markdown",
   "id": "2bb7ad47",
   "metadata": {
    "papermill": {
     "duration": 0.00623,
     "end_time": "2022-08-10T18:19:05.691565",
     "exception": false,
     "start_time": "2022-08-10T18:19:05.685335",
     "status": "completed"
    },
    "tags": []
   },
   "source": [
    "---\n",
    "\n",
    "\n",
    "\n",
    "\n",
    "*Have questions or comments? Visit the [course discussion forum](https://www.kaggle.com/learn/intro-to-sql/discussion) to chat with other learners.*"
   ]
  }
 ],
 "metadata": {
  "kernelspec": {
   "display_name": "Python 3",
   "language": "python",
   "name": "python3"
  },
  "language_info": {
   "codemirror_mode": {
    "name": "ipython",
    "version": 3
   },
   "file_extension": ".py",
   "mimetype": "text/x-python",
   "name": "python",
   "nbconvert_exporter": "python",
   "pygments_lexer": "ipython3",
   "version": "3.7.12"
  },
  "papermill": {
   "default_parameters": {},
   "duration": 11.595792,
   "end_time": "2022-08-10T18:19:06.318492",
   "environment_variables": {},
   "exception": null,
   "input_path": "__notebook__.ipynb",
   "output_path": "__notebook__.ipynb",
   "parameters": {},
   "start_time": "2022-08-10T18:18:54.722700",
   "version": "2.3.4"
  }
 },
 "nbformat": 4,
 "nbformat_minor": 5
}
